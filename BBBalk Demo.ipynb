{
 "cells": [
  {
   "cell_type": "code",
   "execution_count": 1,
   "metadata": {
    "collapsed": false
   },
   "outputs": [],
   "source": [
    "import bbbalk"
   ]
  },
  {
   "cell_type": "code",
   "execution_count": 2,
   "metadata": {
    "collapsed": false
   },
   "outputs": [],
   "source": [
    "gc = bbbalk.games.GameCollection()\n",
    "gc.yearStart = 2013\n",
    "gc.yearEnd = 2013\n",
    "gc.team = 'SDN'\n",
    "games = gc.parse()"
   ]
  },
  {
   "cell_type": "code",
   "execution_count": 3,
   "metadata": {
    "collapsed": false
   },
   "outputs": [],
   "source": [
    "g1 = games[0]"
   ]
  },
  {
   "cell_type": "code",
   "execution_count": 4,
   "metadata": {
    "collapsed": false
   },
   "outputs": [
    {
     "data": {
      "text/plain": [
       "[<bbbalk.retro.basic.Id ARI201305240>,\n",
       " <bbbalk.retro.basic.Version 2>,\n",
       " <bbbalk.retro.basic.Info visteam:SDN>,\n",
       " <bbbalk.retro.basic.Info hometeam:ARI>,\n",
       " <bbbalk.retro.basic.Info site:PHO01>,\n",
       " <bbbalk.retro.basic.Info date:2013/05/24>,\n",
       " <bbbalk.retro.basic.Info number:0>,\n",
       " <bbbalk.retro.basic.Info starttime:6:40PM>,\n",
       " <bbbalk.retro.basic.Info daynight:night>,\n",
       " <bbbalk.retro.basic.Info usedh:false>,\n",
       " <bbbalk.retro.basic.Info umphome:emmep901>,\n",
       " <bbbalk.retro.basic.Info ump1b:muchm901>,\n",
       " <bbbalk.retro.basic.Info ump2b:drecb901>,\n",
       " <bbbalk.retro.basic.Info ump3b:darlg901>,\n",
       " <bbbalk.retro.basic.Info howscored:park>,\n",
       " <bbbalk.retro.basic.Info pitches:pitches>,\n",
       " <bbbalk.retro.basic.Info temp:95>,\n",
       " <bbbalk.retro.basic.Info winddir:fromlf>,\n",
       " <bbbalk.retro.basic.Info windspeed:13>,\n",
       " <bbbalk.retro.basic.Info fieldcond:unknown>,\n",
       " <bbbalk.retro.basic.Info precip:unknown>,\n",
       " <bbbalk.retro.basic.Info sky:sunny>,\n",
       " <bbbalk.retro.basic.Info timeofgame:163>,\n",
       " <bbbalk.retro.basic.Info attendance:24043>,\n",
       " <bbbalk.retro.basic.Info wp:mccab001>,\n",
       " <bbbalk.retro.basic.Info lp:stule002>,\n",
       " <bbbalk.retro.basic.Info save:bellh001>,\n",
       " <bbbalk.retro.player.Start visitor,1: Everth Cabrera (cabre001):shortstop>,\n",
       " <bbbalk.retro.player.Start visitor,2: Chris Denorfia (denoc001):rightfield>,\n",
       " <bbbalk.retro.player.Start visitor,3: Chase Headley (headc001):thirdbase>,\n",
       " <bbbalk.retro.player.Start visitor,4: Carlos Quentin (quenc001):leftfield>,\n",
       " <bbbalk.retro.player.Start visitor,5: Yonder Alonso (alony001):firstbase>,\n",
       " <bbbalk.retro.player.Start visitor,6: Jedd Gyorko (gyorj001):secondbase>,\n",
       " <bbbalk.retro.player.Start visitor,7: Will Venable (venaw001):centerfield>,\n",
       " <bbbalk.retro.player.Start visitor,8: Nick Hundley (hundn001):catcher>,\n",
       " <bbbalk.retro.player.Start visitor,9: Eric Stults (stule002):pitcher>,\n",
       " <bbbalk.retro.player.Start home,1: A.J. Pollock (polla001):centerfield>,\n",
       " <bbbalk.retro.player.Start home,2: Didi Gregorius (gregd001):shortstop>,\n",
       " <bbbalk.retro.player.Start home,3: Paul Goldschmidt (goldp001):firstbase>,\n",
       " <bbbalk.retro.player.Start home,4: Cody Ross (rossc001):leftfield>,\n",
       " <bbbalk.retro.player.Start home,5: Miguel Montero (montm001):catcher>,\n",
       " <bbbalk.retro.player.Start home,6: Martin Prado (pradm001):thirdbase>,\n",
       " <bbbalk.retro.player.Start home,7: Gerardo Parra (parrg001):rightfield>,\n",
       " <bbbalk.retro.player.Start home,8: Cliff Pennington (pennc001):secondbase>,\n",
       " <bbbalk.retro.player.Start home,9: Brandon McCarthy (mccab001):pitcher>,\n",
       " <bbbalk.retro.play.Play t1: cabre001:S8/G>,\n",
       " <bbbalk.retro.play.Play t1: denoc001:64(1)3/GDP>,\n",
       " <bbbalk.retro.play.Play t1: headc001:31/G>,\n",
       " <bbbalk.retro.play.Play b1: polla001:K>,\n",
       " <bbbalk.retro.play.Play b1: gregd001:6/P>,\n",
       " <bbbalk.retro.play.Play b1: goldp001:9/L>,\n",
       " <bbbalk.retro.play.Play t2: quenc001:D7/L>,\n",
       " <bbbalk.retro.play.Play t2: alony001:S7/G.2-H>,\n",
       " <bbbalk.retro.play.Play t2: gyorj001:K>,\n",
       " <bbbalk.retro.play.Play t2: venaw001:46(1)/FO/G>,\n",
       " <bbbalk.retro.play.Play t2: hundn001:54(1)/FO/G>,\n",
       " <bbbalk.retro.play.Play b2: rossc001:9/F>,\n",
       " <bbbalk.retro.play.Play b2: montm001:8/F>,\n",
       " <bbbalk.retro.play.Play b2: pradm001:9/F>,\n",
       " <bbbalk.retro.play.Play t3: stule002:63/G>,\n",
       " <bbbalk.retro.play.Play t3: cabre001:9/F>,\n",
       " <bbbalk.retro.play.Play t3: denoc001:63/G>,\n",
       " <bbbalk.retro.play.Play b3: parrg001:63/G>,\n",
       " <bbbalk.retro.play.Play b3: pennc001:6/P>,\n",
       " <bbbalk.retro.play.Play b3: mccab001:W>,\n",
       " <bbbalk.retro.play.Play b3: polla001:S9/G.1-2>,\n",
       " <bbbalk.retro.play.Play b3: gregd001:9/F>,\n",
       " <bbbalk.retro.play.Play t4: headc001:8/F>,\n",
       " <bbbalk.retro.play.Play t4: quenc001:W>,\n",
       " <bbbalk.retro.play.Play t4: alony001:7/F>,\n",
       " <bbbalk.retro.play.Play t4: gyorj001:43/G>,\n",
       " <bbbalk.retro.play.Play b4: goldp001:3/G>,\n",
       " <bbbalk.retro.play.Play b4: rossc001:K>,\n",
       " <bbbalk.retro.play.Play b4: montm001:43/G>,\n",
       " <bbbalk.retro.play.Play t5: venaw001:3/G>,\n",
       " <bbbalk.retro.play.Play t5: hundn001:S7/L>,\n",
       " <bbbalk.retro.play.Play t5: stule002:13/SH/BG.1-2>,\n",
       " <bbbalk.retro.play.Play t5: cabre001:8/F>,\n",
       " <bbbalk.retro.play.Play b5: pradm001:7/F>,\n",
       " <bbbalk.retro.play.Play b5: parrg001:3/G>,\n",
       " <bbbalk.retro.play.Play b5: pennc001:8/F>,\n",
       " <bbbalk.retro.play.Play t6: denoc001:63/G>,\n",
       " <bbbalk.retro.play.Play t6: headc001:W>,\n",
       " <bbbalk.retro.play.Play t6: quenc001:S67/L-.1-2>,\n",
       " <bbbalk.retro.play.Play t6: alony001:8/L+>,\n",
       " <bbbalk.retro.play.Play t6: gyorj001:8/F>,\n",
       " <bbbalk.retro.play.Play b6: mccab001:53/G>,\n",
       " <bbbalk.retro.play.Play b6: polla001:S8/L>,\n",
       " <bbbalk.retro.play.Play b6: gregd001:8/F>,\n",
       " <bbbalk.retro.play.Play b6: goldp001:S8/L.1-2>,\n",
       " <bbbalk.retro.play.Play b6: rossc001:7/F>,\n",
       " <bbbalk.retro.play.Play t7: venaw001:6/P>,\n",
       " <bbbalk.retro.play.Play t7: hundn001:3/G>,\n",
       " <bbbalk.retro.play.Play t7: stule002:K>,\n",
       " <bbbalk.retro.play.Play b7: montm001:DGR/9/F>,\n",
       " <bbbalk.retro.play.Play b7: pradm001:D9/G.2-H>,\n",
       " <bbbalk.retro.play.Play b7: parrg001:63/G.2-3>,\n",
       " <bbbalk.retro.play.Play b7: pennc001:W>,\n",
       " <bbbalk.retro.play.Play b7: mccab001:NP>,\n",
       " <bbbalk.retro.player.Sub home,9: Wil Nieves (nievw001):pinchhitter>,\n",
       " <bbbalk.retro.play.Play b7: nievw001:D8/F.3-H;1-3>,\n",
       " <bbbalk.retro.play.Play b7: polla001:NP>,\n",
       " <bbbalk.retro.player.Sub visitor,9: Dale Thayer (thayd001):pitcher>,\n",
       " <bbbalk.retro.play.Play b7: polla001:S7/G.3-H;2-3>,\n",
       " <bbbalk.retro.play.Play b7: gregd001:NP>,\n",
       " <bbbalk.retro.player.Sub visitor,9: Joe Thatcher (thatj001):pitcher>,\n",
       " <bbbalk.retro.play.Play b7: gregd001:FC1/BG.3XH(12);1-2>,\n",
       " <bbbalk.retro.play.Play b7: goldp001:NP>,\n",
       " <bbbalk.retro.player.Sub visitor,9: Anthony Bass (bassa001):pitcher>,\n",
       " <bbbalk.retro.play.Play b7: goldp001:D8/L+.2-H;1-H>,\n",
       " <bbbalk.retro.play.Play b7: rossc001:13/G>,\n",
       " <bbbalk.retro.play.Play t8: cabre001:NP>,\n",
       " <bbbalk.retro.player.Sub home,9: David Hernandez (hernd002):pitcher>,\n",
       " <bbbalk.retro.play.Play t8: cabre001:HR/89/F>,\n",
       " <bbbalk.retro.play.Play t8: denoc001:8/F>,\n",
       " <bbbalk.retro.play.Play t8: headc001:K>,\n",
       " <bbbalk.retro.play.Play t8: quenc001:D7/L>,\n",
       " <bbbalk.retro.play.Play t8: alony001:8/F>,\n",
       " <bbbalk.retro.play.Play b8: montm001:43/G>,\n",
       " <bbbalk.retro.play.Play b8: pradm001:43/G>,\n",
       " <bbbalk.retro.play.Play b8: parrg001:W>,\n",
       " <bbbalk.retro.play.Play b8: pennc001:CS2(26)>,\n",
       " <bbbalk.retro.play.Play t9: gyorj001:NP>,\n",
       " <bbbalk.retro.player.Sub home,9: Heath Bell (bellh001):pitcher>,\n",
       " <bbbalk.retro.play.Play t9: gyorj001:6/L+>,\n",
       " <bbbalk.retro.play.Play t9: venaw001:S4/BG>,\n",
       " <bbbalk.retro.play.Play t9: hundn001:NP>,\n",
       " <bbbalk.retro.player.Sub visitor,8: Alexi Amarista (amara001):pinchhitter>,\n",
       " <bbbalk.retro.play.Play t9: amara001:W.1-2>,\n",
       " <bbbalk.retro.play.Play t9: bassa001:NP>,\n",
       " <bbbalk.retro.player.Sub visitor,9: Mark Kotsay (kotsm001):pinchhitter>,\n",
       " <bbbalk.retro.play.Play t9: kotsm001:7/F>,\n",
       " <bbbalk.retro.play.Play t9: cabre001:31/G>,\n",
       " <bbbalk.retro.basic.Data EarnedRuns, stule002:4>,\n",
       " <bbbalk.retro.basic.Data EarnedRuns, thayd001:1>,\n",
       " <bbbalk.retro.basic.Data EarnedRuns, thatj001:0>,\n",
       " <bbbalk.retro.basic.Data EarnedRuns, bassa001:0>,\n",
       " <bbbalk.retro.basic.Data EarnedRuns, mccab001:1>,\n",
       " <bbbalk.retro.basic.Data EarnedRuns, hernd002:1>,\n",
       " <bbbalk.retro.basic.Data EarnedRuns, bellh001:0>]"
      ]
     },
     "execution_count": 4,
     "metadata": {},
     "output_type": "execute_result"
    }
   ],
   "source": [
    "g1.records"
   ]
  },
  {
   "cell_type": "code",
   "execution_count": 5,
   "metadata": {
    "collapsed": false
   },
   "outputs": [
    {
     "data": {
      "text/plain": [
       "Runs(visitor=2, home=5)"
      ]
     },
     "execution_count": 5,
     "metadata": {},
     "output_type": "execute_result"
    }
   ],
   "source": [
    "g1.runs"
   ]
  },
  {
   "cell_type": "code",
   "execution_count": 6,
   "metadata": {
    "collapsed": false
   },
   "outputs": [
    {
     "data": {
      "text/plain": [
       "[[<bbbalk.retro.play.Play t1: cabre001:S8/G>,\n",
       "  <bbbalk.retro.play.Play t1: denoc001:64(1)3/GDP>,\n",
       "  <bbbalk.retro.play.Play t1: headc001:31/G>],\n",
       " [<bbbalk.retro.play.Play b1: polla001:K>,\n",
       "  <bbbalk.retro.play.Play b1: gregd001:6/P>,\n",
       "  <bbbalk.retro.play.Play b1: goldp001:9/L>],\n",
       " [<bbbalk.retro.play.Play t2: quenc001:D7/L>,\n",
       "  <bbbalk.retro.play.Play t2: alony001:S7/G.2-H>,\n",
       "  <bbbalk.retro.play.Play t2: gyorj001:K>,\n",
       "  <bbbalk.retro.play.Play t2: venaw001:46(1)/FO/G>,\n",
       "  <bbbalk.retro.play.Play t2: hundn001:54(1)/FO/G>],\n",
       " [<bbbalk.retro.play.Play b2: rossc001:9/F>,\n",
       "  <bbbalk.retro.play.Play b2: montm001:8/F>,\n",
       "  <bbbalk.retro.play.Play b2: pradm001:9/F>]]"
      ]
     },
     "execution_count": 6,
     "metadata": {},
     "output_type": "execute_result"
    }
   ],
   "source": [
    "g1.halfInnings[:4]"
   ]
  },
  {
   "cell_type": "code",
   "execution_count": 9,
   "metadata": {
    "collapsed": false
   },
   "outputs": [
    {
     "data": {
      "text/plain": [
       "[<bbbalk.retro.player.Start visitor,1: Everth Cabrera (cabre001):shortstop>,\n",
       " <bbbalk.retro.player.Start visitor,2: Chris Denorfia (denoc001):rightfield>,\n",
       " <bbbalk.retro.player.Start visitor,3: Chase Headley (headc001):thirdbase>,\n",
       " <bbbalk.retro.player.Start visitor,4: Carlos Quentin (quenc001):leftfield>,\n",
       " <bbbalk.retro.player.Start visitor,5: Yonder Alonso (alony001):firstbase>,\n",
       " <bbbalk.retro.player.Start visitor,6: Jedd Gyorko (gyorj001):secondbase>,\n",
       " <bbbalk.retro.player.Start visitor,7: Will Venable (venaw001):centerfield>,\n",
       " <bbbalk.retro.player.Start visitor,8: Nick Hundley (hundn001):catcher>,\n",
       " <bbbalk.retro.player.Start visitor,9: Eric Stults (stule002):pitcher>]"
      ]
     },
     "execution_count": 9,
     "metadata": {},
     "output_type": "execute_result"
    }
   ],
   "source": [
    "g1.starters().visitor"
   ]
  },
  {
   "cell_type": "code",
   "execution_count": 8,
   "metadata": {
    "collapsed": false
   },
   "outputs": [
    {
     "name": "stdout",
     "output_type": "stream",
     "text": [
      "(<bbbalk.retro.play.Play t9: gyorj001:NP>, [False, False, False], [False, False, False])\n",
      "<bbbalk.retro.player.Sub home,9: Heath Bell (bellh001):pitcher>\n",
      "(<bbbalk.retro.play.Play t9: gyorj001:6/L+>, [False, False, False], [False, False, False])\n",
      "(<bbbalk.retro.play.Play t9: venaw001:S4/BG>, [False, False, False], ['venaw001', False, False])\n",
      "(<bbbalk.retro.play.Play t9: hundn001:NP>, ['venaw001', False, False], ['venaw001', False, False])\n",
      "<bbbalk.retro.player.Sub visitor,8: Alexi Amarista (amara001):pinchhitter>\n",
      "(<bbbalk.retro.play.Play t9: amara001:W.1-2>, ['venaw001', False, False], ['amara001', 'venaw001', False])\n",
      "(<bbbalk.retro.play.Play t9: bassa001:NP>, ['amara001', 'venaw001', False], ['amara001', 'venaw001', False])\n",
      "<bbbalk.retro.player.Sub visitor,9: Mark Kotsay (kotsm001):pinchhitter>\n",
      "(<bbbalk.retro.play.Play t9: kotsm001:7/F>, ['amara001', 'venaw001', False], ['amara001', 'venaw001', False])\n",
      "(<bbbalk.retro.play.Play t9: cabre001:31/G>, ['amara001', 'venaw001', False], ['amara001', 'venaw001', False])\n"
     ]
    }
   ],
   "source": [
    "t9 = g1.halfInnings[-1]\n",
    "for p in t9:\n",
    "    if p.record == 'play':\n",
    "        print(p, p.runnersBefore, p.runnersAfter)\n",
    "    else:\n",
    "        print(p)"
   ]
  },
  {
   "cell_type": "code",
   "execution_count": 10,
   "metadata": {
    "collapsed": false
   },
   "outputs": [
    {
     "data": {
      "text/plain": [
       "<bbbalk.retro.play.Play t9: amara001:W.1-2>"
      ]
     },
     "execution_count": 10,
     "metadata": {},
     "output_type": "execute_result"
    }
   ],
   "source": [
    "t9[6]"
   ]
  },
  {
   "cell_type": "code",
   "execution_count": 11,
   "metadata": {
    "collapsed": false
   },
   "outputs": [
    {
     "data": {
      "text/plain": [
       "['__class__',\n",
       " '__delattr__',\n",
       " '__dict__',\n",
       " '__doc__',\n",
       " '__format__',\n",
       " '__getattribute__',\n",
       " '__hash__',\n",
       " '__init__',\n",
       " '__module__',\n",
       " '__new__',\n",
       " '__reduce__',\n",
       " '__reduce_ex__',\n",
       " '__repr__',\n",
       " '__setattr__',\n",
       " '__sizeof__',\n",
       " '__str__',\n",
       " '__subclasshook__',\n",
       " '__weakref__',\n",
       " '_pitches',\n",
       " '_playEvent',\n",
       " '_rawBatter',\n",
       " '_rawRunners',\n",
       " '_runnerEvent',\n",
       " 'associatedComment',\n",
       " 'count',\n",
       " 'inning',\n",
       " 'parent',\n",
       " 'playEvent',\n",
       " 'playerId',\n",
       " 'raw',\n",
       " 'record',\n",
       " 'runnerEvent',\n",
       " 'runnersAfter',\n",
       " 'runnersBefore',\n",
       " 'topBottom',\n",
       " 'visitName',\n",
       " 'visitOrHome',\n",
       " 'visitorNames']"
      ]
     },
     "execution_count": 11,
     "metadata": {},
     "output_type": "execute_result"
    }
   ],
   "source": [
    "aa = t9[6]\n",
    "dir(aa)"
   ]
  },
  {
   "cell_type": "code",
   "execution_count": 12,
   "metadata": {
    "collapsed": true
   },
   "outputs": [],
   "source": [
    "pe = aa.playEvent"
   ]
  },
  {
   "cell_type": "code",
   "execution_count": 13,
   "metadata": {
    "collapsed": false
   },
   "outputs": [
    {
     "data": {
      "text/plain": [
       "['__class__',\n",
       " '__delattr__',\n",
       " '__dict__',\n",
       " '__doc__',\n",
       " '__format__',\n",
       " '__getattribute__',\n",
       " '__hash__',\n",
       " '__init__',\n",
       " '__module__',\n",
       " '__new__',\n",
       " '__reduce__',\n",
       " '__reduce_ex__',\n",
       " '__repr__',\n",
       " '__setattr__',\n",
       " '__sizeof__',\n",
       " '__str__',\n",
       " '__subclasshook__',\n",
       " '__weakref__',\n",
       " 'baseOnBalls',\n",
       " 'baseOnBallsIntentional',\n",
       " 'basesStolen',\n",
       " 'basicBatter',\n",
       " 'caughtStealing',\n",
       " 'defaults',\n",
       " 'double',\n",
       " 'doubleGroundRule',\n",
       " 'eraseBaseRunnerIfNoError',\n",
       " 'eraseBaseRunners',\n",
       " 'error',\n",
       " 'fielders',\n",
       " 'fieldersChoice',\n",
       " 'hitByPitch',\n",
       " 'homeRun',\n",
       " 'impliedBatterAdvance',\n",
       " 'isAtBat',\n",
       " 'isHit',\n",
       " 'isNoPlay',\n",
       " 'isOut',\n",
       " 'isPassedBall',\n",
       " 'isPickoff',\n",
       " 'isPlateAppearance',\n",
       " 'isSafe',\n",
       " 'isWildPitch',\n",
       " 'modifiers',\n",
       " 'parent',\n",
       " 'raw',\n",
       " 'single',\n",
       " 'stolenBase',\n",
       " 'strikeOut',\n",
       " 'totalBases',\n",
       " 'triple']"
      ]
     },
     "execution_count": 13,
     "metadata": {},
     "output_type": "execute_result"
    }
   ],
   "source": [
    "dir(pe)"
   ]
  },
  {
   "cell_type": "code",
   "execution_count": 14,
   "metadata": {
    "collapsed": false
   },
   "outputs": [
    {
     "data": {
      "text/plain": [
       "True"
      ]
     },
     "execution_count": 14,
     "metadata": {},
     "output_type": "execute_result"
    }
   ],
   "source": [
    "pe.baseOnBalls"
   ]
  },
  {
   "cell_type": "code",
   "execution_count": 15,
   "metadata": {
    "collapsed": false
   },
   "outputs": [
    {
     "data": {
      "text/plain": [
       "True"
      ]
     },
     "execution_count": 15,
     "metadata": {},
     "output_type": "execute_result"
    }
   ],
   "source": [
    "pe.isSafe"
   ]
  },
  {
   "cell_type": "code",
   "execution_count": 16,
   "metadata": {
    "collapsed": false
   },
   "outputs": [
    {
     "data": {
      "text/plain": [
       "0"
      ]
     },
     "execution_count": 16,
     "metadata": {},
     "output_type": "execute_result"
    }
   ],
   "source": [
    "pe.totalBases"
   ]
  },
  {
   "cell_type": "code",
   "execution_count": 17,
   "metadata": {
    "collapsed": false
   },
   "outputs": [
    {
     "data": {
      "text/plain": [
       "'W'"
      ]
     },
     "execution_count": 17,
     "metadata": {},
     "output_type": "execute_result"
    }
   ],
   "source": [
    "pe.basicBatter"
   ]
  },
  {
   "cell_type": "code",
   "execution_count": 21,
   "metadata": {
    "collapsed": false
   },
   "outputs": [
    {
     "data": {
      "text/plain": [
       "<bbbalk.retro.play.RunnerEvent at 0x11070b4d0>"
      ]
     },
     "execution_count": 21,
     "metadata": {},
     "output_type": "execute_result"
    }
   ],
   "source": [
    "re = aa.runnerEvent\n",
    "re"
   ]
  },
  {
   "cell_type": "code",
   "execution_count": 22,
   "metadata": {
    "collapsed": false
   },
   "outputs": [
    {
     "data": {
      "text/plain": [
       "['__class__',\n",
       " '__delattr__',\n",
       " '__dict__',\n",
       " '__doc__',\n",
       " '__format__',\n",
       " '__getattribute__',\n",
       " '__hash__',\n",
       " '__init__',\n",
       " '__module__',\n",
       " '__new__',\n",
       " '__reduce__',\n",
       " '__reduce_ex__',\n",
       " '__repr__',\n",
       " '__setattr__',\n",
       " '__sizeof__',\n",
       " '__str__',\n",
       " '__subclasshook__',\n",
       " '__weakref__',\n",
       " '_runnersAdvance',\n",
       " 'hasRunnerAdvance',\n",
       " 'outs',\n",
       " 'parent',\n",
       " 'raw',\n",
       " 'runnersAfter',\n",
       " 'runnersBefore',\n",
       " 'runs',\n",
       " 'scoringRunners']"
      ]
     },
     "execution_count": 22,
     "metadata": {},
     "output_type": "execute_result"
    }
   ],
   "source": [
    "dir(re)"
   ]
  },
  {
   "cell_type": "code",
   "execution_count": 25,
   "metadata": {
    "collapsed": false
   },
   "outputs": [],
   "source": [
    "re.hasRunnerAdvance?"
   ]
  },
  {
   "cell_type": "code",
   "execution_count": null,
   "metadata": {
    "collapsed": true
   },
   "outputs": [],
   "source": []
  }
 ],
 "metadata": {
  "kernelspec": {
   "display_name": "Python 2",
   "language": "python",
   "name": "python2"
  },
  "language_info": {
   "codemirror_mode": {
    "name": "ipython",
    "version": 2
   },
   "file_extension": ".py",
   "mimetype": "text/x-python",
   "name": "python",
   "nbconvert_exporter": "python",
   "pygments_lexer": "ipython2",
   "version": "2.7.10"
  }
 },
 "nbformat": 4,
 "nbformat_minor": 0
}
