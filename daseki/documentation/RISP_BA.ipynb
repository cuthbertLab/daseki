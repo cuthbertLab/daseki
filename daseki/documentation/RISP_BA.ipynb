{
 "cells": [
  {
   "cell_type": "markdown",
   "metadata": {},
   "source": [
    "From Retrolist June 3, 2016:\n",
    "\n",
    "```\n",
    "The Mariners were 11-for-12 with RISP last night. It has to be rare to have that many hits in those situations and only one failure. I was wondering if someone had compiled a list of highest BA with RISP in a game, with say a 10 AB minimum. If not, perhaps someone with database skills could produce such a list using Retrosheet data. There's not an easy way to do this in BB Ref Play Index. Thanks. \n",
    "\n",
    "Ken Schmidt \n",
    "```"
   ]
  },
  {
   "cell_type": "code",
   "execution_count": 1,
   "metadata": {
    "collapsed": true
   },
   "outputs": [],
   "source": [
    "from daseki import *"
   ]
  },
  {
   "cell_type": "code",
   "execution_count": 2,
   "metadata": {
    "collapsed": true
   },
   "outputs": [],
   "source": [
    "def isAtBatRISP(p):\n",
    "    if not p.playEvent.isAtBat:\n",
    "        return False\n",
    "    rb = p.runnersBefore\n",
    "    if not (rb.second or rb.third):\n",
    "        return False\n",
    "    return True\n"
   ]
  },
  {
   "cell_type": "code",
   "execution_count": 3,
   "metadata": {
    "collapsed": false
   },
   "outputs": [],
   "source": [
    "g = game.Game('SDN201304090')"
   ]
  },
  {
   "cell_type": "code",
   "execution_count": 4,
   "metadata": {
    "collapsed": false
   },
   "outputs": [],
   "source": [
    "def baRISP(g, visitOrHome):\n",
    "    totalAtBats = 0\n",
    "    totalHits = 0\n",
    "    for p in g.recordsByType('play'):\n",
    "        if visitOrHome != p.visitOrHome:\n",
    "            continue\n",
    "        if not isAtBatRISP(p):\n",
    "            continue\n",
    "        totalAtBats += 1\n",
    "        if p.playEvent.isHit:\n",
    "            totalHits += 1\n",
    "    return totalHits, totalAtBats"
   ]
  },
  {
   "cell_type": "code",
   "execution_count": 5,
   "metadata": {
    "collapsed": false
   },
   "outputs": [
    {
     "data": {
      "text/plain": [
       "(5, 12)"
      ]
     },
     "execution_count": 5,
     "metadata": {},
     "output_type": "execute_result"
    }
   ],
   "source": [
    "baRISP(g, common.TeamNum.HOME)"
   ]
  },
  {
   "cell_type": "code",
   "execution_count": 6,
   "metadata": {
    "collapsed": true
   },
   "outputs": [],
   "source": [
    "def maxBaRISP(games, maxSoFar=None):\n",
    "    if maxSoFar is None:\n",
    "        maxSoFar = [[x, 0, []] for x in range(100)]\n",
    "    \n",
    "    for g in games:\n",
    "        for tn in (common.TeamNum.HOME, common.TeamNum.VISITOR):\n",
    "            gHits, gAtBats = baRISP(g, tn)\n",
    "            maxAtBatList = maxSoFar[gAtBats]\n",
    "            if gHits < maxAtBatList[1]:\n",
    "                continue\n",
    "            if gHits > maxAtBatList[1]:\n",
    "                maxAtBatList[1] = gHits\n",
    "                maxAtBatList[2] = []\n",
    "            if gHits < 5:\n",
    "                continue\n",
    "\n",
    "            appendTuple = g, tn\n",
    "            maxAtBatList[2].append(appendTuple)\n",
    "\n",
    "    return maxSoFar"
   ]
  },
  {
   "cell_type": "code",
   "execution_count": 7,
   "metadata": {
    "collapsed": false
   },
   "outputs": [
    {
     "data": {
      "text/plain": [
       "[[0, 0, []],\n",
       " [1, 0, []],\n",
       " [2, 1, []],\n",
       " [3, 2, []],\n",
       " [4, 2, []],\n",
       " [5, 3, []],\n",
       " [6, 4, []],\n",
       " [7, 4, []],\n",
       " [8, 4, []],\n",
       " [9, 4, []],\n",
       " [10,\n",
       "  5,\n",
       "  [(<daseki.game.Game SDN201505170>, <TeamNum.VISITOR: 0>),\n",
       "   (<daseki.game.Game NYN201507300>, <TeamNum.VISITOR: 0>)]],\n",
       " [11,\n",
       "  5,\n",
       "  [(<daseki.game.Game SDN201505300>, <TeamNum.VISITOR: 0>),\n",
       "   (<daseki.game.Game MIA201507310>, <TeamNum.VISITOR: 0>),\n",
       "   (<daseki.game.Game COL201509200>, <TeamNum.VISITOR: 0>)]],\n",
       " [12, 7, [(<daseki.game.Game SFN201506250>, <TeamNum.VISITOR: 0>)]],\n",
       " [13, 9, [(<daseki.game.Game COL201504200>, <TeamNum.VISITOR: 0>)]],\n",
       " [14, 7, [(<daseki.game.Game LAN201505240>, <TeamNum.VISITOR: 0>)]],\n",
       " [15,\n",
       "  6,\n",
       "  [(<daseki.game.Game COL201504210>, <TeamNum.VISITOR: 0>),\n",
       "   (<daseki.game.Game SDN201509090>, <TeamNum.HOME: 1>)]],\n",
       " [16, 7, [(<daseki.game.Game SFN201509110>, <TeamNum.HOME: 1>)]],\n",
       " [17,\n",
       "  5,\n",
       "  [(<daseki.game.Game SDN201504280>, <TeamNum.VISITOR: 0>),\n",
       "   (<daseki.game.Game SFN201509130>, <TeamNum.HOME: 1>)]],\n",
       " [18, 4, []],\n",
       " [19, 9, [(<daseki.game.Game SDN201504110>, <TeamNum.HOME: 1>)]],\n",
       " [20,\n",
       "  8,\n",
       "  [(<daseki.game.Game SDN201505010>, <TeamNum.HOME: 1>),\n",
       "   (<daseki.game.Game COL201509190>, <TeamNum.HOME: 1>)]],\n",
       " [21, 13, [(<daseki.game.Game OAK201506170>, <TeamNum.HOME: 1>)]],\n",
       " [22, 0, []],\n",
       " [23, 8, [(<daseki.game.Game SDN201506150>, <TeamNum.VISITOR: 0>)]],\n",
       " [24, 0, []],\n",
       " [25, 0, []],\n",
       " [26, 0, []],\n",
       " [27, 0, []],\n",
       " [28, 0, []],\n",
       " [29, 0, []],\n",
       " [30, 0, []],\n",
       " [31, 0, []],\n",
       " [32, 0, []],\n",
       " [33, 0, []],\n",
       " [34, 0, []],\n",
       " [35, 0, []],\n",
       " [36, 0, []],\n",
       " [37, 0, []],\n",
       " [38, 0, []],\n",
       " [39, 0, []],\n",
       " [40, 0, []],\n",
       " [41, 0, []],\n",
       " [42, 0, []],\n",
       " [43, 0, []],\n",
       " [44, 0, []],\n",
       " [45, 0, []],\n",
       " [46, 0, []],\n",
       " [47, 0, []],\n",
       " [48, 0, []],\n",
       " [49, 0, []],\n",
       " [50, 0, []],\n",
       " [51, 0, []],\n",
       " [52, 0, []],\n",
       " [53, 0, []],\n",
       " [54, 0, []],\n",
       " [55, 0, []],\n",
       " [56, 0, []],\n",
       " [57, 0, []],\n",
       " [58, 0, []],\n",
       " [59, 0, []],\n",
       " [60, 0, []],\n",
       " [61, 0, []],\n",
       " [62, 0, []],\n",
       " [63, 0, []],\n",
       " [64, 0, []],\n",
       " [65, 0, []],\n",
       " [66, 0, []],\n",
       " [67, 0, []],\n",
       " [68, 0, []],\n",
       " [69, 0, []],\n",
       " [70, 0, []],\n",
       " [71, 0, []],\n",
       " [72, 0, []],\n",
       " [73, 0, []],\n",
       " [74, 0, []],\n",
       " [75, 0, []],\n",
       " [76, 0, []],\n",
       " [77, 0, []],\n",
       " [78, 0, []],\n",
       " [79, 0, []],\n",
       " [80, 0, []],\n",
       " [81, 0, []],\n",
       " [82, 0, []],\n",
       " [83, 0, []],\n",
       " [84, 0, []],\n",
       " [85, 0, []],\n",
       " [86, 0, []],\n",
       " [87, 0, []],\n",
       " [88, 0, []],\n",
       " [89, 0, []],\n",
       " [90, 0, []],\n",
       " [91, 0, []],\n",
       " [92, 0, []],\n",
       " [93, 0, []],\n",
       " [94, 0, []],\n",
       " [95, 0, []],\n",
       " [96, 0, []],\n",
       " [97, 0, []],\n",
       " [98, 0, []],\n",
       " [99, 0, []]]"
      ]
     },
     "execution_count": 7,
     "metadata": {},
     "output_type": "execute_result"
    }
   ],
   "source": [
    "gc = game.GameCollection()\n",
    "gc.yearStart = 2015\n",
    "gc.yearEnd = 2015\n",
    "gc.team = 'SDN'\n",
    "gc.parse()\n",
    "maxBaRISP(gc.games)"
   ]
  },
  {
   "cell_type": "code",
   "execution_count": 8,
   "metadata": {
    "collapsed": false
   },
   "outputs": [
    {
     "data": {
      "text/plain": [
       "'/var/folders/x5/rymq2tx16lqbpytwb1n_cc4c0000gn/T/daseki'"
      ]
     },
     "execution_count": 8,
     "metadata": {},
     "output_type": "execute_result"
    }
   ],
   "source": [
    "common.getDefaultRootTempDir()"
   ]
  },
  {
   "cell_type": "code",
   "execution_count": 9,
   "metadata": {
    "collapsed": true
   },
   "outputs": [],
   "source": [
    "gc = game.GameCollection()\n",
    "gc.yearStart = 2015\n",
    "gc.yearEnd = 2015\n",
    "gc.team = 'SDN'\n",
    "gc.parse()"
   ]
  },
  {
   "cell_type": "code",
   "execution_count": null,
   "metadata": {
    "collapsed": true
   },
   "outputs": [],
   "source": []
  }
 ],
 "metadata": {
  "kernelspec": {
   "display_name": "Python 3",
   "language": "python",
   "name": "python3"
  },
  "language_info": {
   "codemirror_mode": {
    "name": "ipython",
    "version": 3
   },
   "file_extension": ".py",
   "mimetype": "text/x-python",
   "name": "python",
   "nbconvert_exporter": "python",
   "pygments_lexer": "ipython3",
   "version": "3.5.1"
  }
 },
 "nbformat": 4,
 "nbformat_minor": 0
}
